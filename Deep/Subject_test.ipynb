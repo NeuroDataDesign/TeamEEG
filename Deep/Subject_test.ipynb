{
  "nbformat": 4,
  "nbformat_minor": 0,
  "metadata": {
    "colab": {
      "name": "Untitled4.ipynb",
      "provenance": []
    },
    "kernelspec": {
      "name": "python3",
      "display_name": "Python 3"
    }
  },
  "cells": [
    {
      "cell_type": "code",
      "metadata": {
        "id": "Nj6L4abkZAib",
        "colab_type": "code",
        "colab": {
          "base_uri": "https://localhost:8080/",
          "height": 67
        },
        "outputId": "05c2b8ef-d5b4-41cc-c15a-e8b590208944"
      },
      "source": [
        "import ntpath\n",
        "\n",
        "\n",
        "class Subject:\n",
        "    \"\"\"\n",
        "    SUBJECT is a class representing each subject in the dataFolder.\n",
        "    A Subject corresponds to a folder, which contains one or more\n",
        "    Blocks. A Block represents a raw file and it's associated\n",
        "    preprocessed file, if any (See Block).\n",
        "    \"\"\"\n",
        "\n",
        "    # Constructor\n",
        "    def __init__(self, data_folder, result_folder):\n",
        "        self.result_folder = result_folder\n",
        "        self.data_folder = data_folder\n",
        "        self.name = self.extract_name(data_folder)\n",
        "\n",
        "    def update_addresses(self, new_data_path, new_project_path):\n",
        "        \"\"\"\n",
        "        This method is to be called to update addresses\n",
        "        in case the project is loaded from another operating system and may\n",
        "        have a different path to the dataFolder or resultFolder. This can\n",
        "        happen either because the data is on a server and the path to it is\n",
        "        different on different systems, or simply if the project is loaded\n",
        "        from a windows to a iOS or vice versa.\n",
        "        Parameters\n",
        "        ----------\n",
        "        new_data_path : str\n",
        "            updated path of the data folder\n",
        "        new_project_path : str\n",
        "            updated path of the project folder\n",
        "        Returns\n",
        "        -------\n",
        "        None\n",
        "\n",
        "        \"\"\"\n",
        "\n",
        "        self.data_folder = ntpath.join(new_data_path, self.name)\n",
        "        self.result_folder = ntpath.join(new_project_path, self.name)\n",
        "\n",
        "    @staticmethod\n",
        "    def extract_name(address):\n",
        "        \"\"\"\n",
        "\n",
        "        Parameters\n",
        "        ----------\n",
        "        address : str\n",
        "            path of the subject folder\n",
        "\n",
        "        Returns\n",
        "        -------\n",
        "        name : str\n",
        "            name of the subject\n",
        "        \"\"\"\n",
        "        head, tail = ntpath.split(address)\n",
        "        return tail or ntpath.basename(head)\n",
        "\n",
        "\n",
        "\n",
        "sub1 = Subject('a\\b\\subname','c\\d\\subname')\n",
        "sub_name = sub1.name\n",
        "sub1.update_addresses('w/x','y/z')\n",
        "print(\"Subject name : \" + sub_name)\n",
        "print(\"Updated data path : \" + sub1.data_folder)\n",
        "print(\"Updated result path : \" + sub1.result_folder)"
      ],
      "execution_count": 13,
      "outputs": [
        {
          "output_type": "stream",
          "text": [
            "Subject name : subname\n",
            "Updated data path : w/x\\subname\n",
            "Updated result path : y/z\\subname\n"
          ],
          "name": "stdout"
        }
      ]
    }
  ]
}