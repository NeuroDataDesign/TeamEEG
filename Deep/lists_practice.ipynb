{
  "cells": [
    {
      "metadata": {
        "trusted": true
      },
      "cell_type": "code",
      "source": "pals = ['sydney','mikala','victoria','nataly']\nprint(pals[0].title())\nprint(pals[-1].title()\npals.append('julia')#adds to end\nprint(pals[-1].title())\npals.insert(1,'hannah')\nprint(pals)\nknew_first = pals.pop(4)#popping out the one at idx 4\nprint(pals)\nprint(knew_first)\npals.remove('mikala')#removing by value not index\nprint(pals)\nprint(sorted(pals))#sorting alphabetically\nprint(len(pals))#length\n# checking out for loops\nfor pal in pals:#important to remember the colon\n\tprint('I love ya, {pal.title()}!')\nprint('Gotta end for loops')# no need for an end statemtent just no indent\n# Now for some number lists\nsquares = []\nfor val in range(2,11,2):#allowing me to jump by 2, ends at 10\n\tsquares.append(val**2)#square and add to list\nprint(squares)\nsquares = [val**2 for val in range(1,15)]# efficiency way\nprint(squares)\n# some slicing of lists\nprint(pals[1:])#indexing second to end\nprint(pals[-2:])#second from last to end\nnewpals = pals[:]#copying, important to do the [:] otherwise the lists are tied\nnewpals.append('gaby')\nprint(pals)#showing they are different\nprint(newpals)\n# tuples \ndimensions = (400,100)#can't change individual values, can reassign whole variable\nfor dimension in dimensions:\n\tprint(dimension)",
      "execution_count": 2,
      "outputs": [
        {
          "output_type": "stream",
          "text": "Sydney\nNataly\nJulia\n['sydney', 'hannah', 'mikala', 'victoria', 'nataly', 'julia']\n['sydney', 'hannah', 'mikala', 'victoria', 'julia']\nnataly\n['sydney', 'hannah', 'victoria', 'julia']\n['hannah', 'julia', 'sydney', 'victoria']\n4\nI love ya, {pal.title()}!\nI love ya, {pal.title()}!\nI love ya, {pal.title()}!\nI love ya, {pal.title()}!\nGotta end for loops\n[4, 16, 36, 64, 100]\n[1, 4, 9, 16, 25, 36, 49, 64, 81, 100, 121, 144, 169, 196]\n['hannah', 'victoria', 'julia']\n['victoria', 'julia']\n['sydney', 'hannah', 'victoria', 'julia']\n['sydney', 'hannah', 'victoria', 'julia', 'gaby']\n400\n100\n",
          "name": "stdout"
        }
      ]
    },
    {
      "metadata": {
        "trusted": true
      },
      "cell_type": "code",
      "source": "",
      "execution_count": null,
      "outputs": []
    }
  ],
  "metadata": {
    "kernelspec": {
      "name": "python3",
      "display_name": "Python 3",
      "language": "python"
    },
    "language_info": {
      "mimetype": "text/x-python",
      "nbconvert_exporter": "python",
      "name": "python",
      "file_extension": ".py",
      "version": "3.5.4",
      "pygments_lexer": "ipython3",
      "codemirror_mode": {
        "version": 3,
        "name": "ipython"
      }
    }
  },
  "nbformat": 4,
  "nbformat_minor": 2
}