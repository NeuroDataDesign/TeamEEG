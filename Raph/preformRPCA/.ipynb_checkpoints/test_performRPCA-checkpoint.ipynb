{
 "cells": [
  {
   "cell_type": "code",
   "execution_count": 2,
   "metadata": {},
   "outputs": [
    {
     "ename": "IndentationError",
     "evalue": "expected an indented block (performRPCA.py, line 31)",
     "output_type": "error",
     "traceback": [
      "Traceback \u001b[0;36m(most recent call last)\u001b[0m:\n",
      "  File \u001b[1;32m\"/Users/raphaelbechtold/anaconda3/lib/python3.6/site-packages/IPython/core/interactiveshell.py\"\u001b[0m, line \u001b[1;32m3326\u001b[0m, in \u001b[1;35mrun_code\u001b[0m\n    exec(code_obj, self.user_global_ns, self.user_ns)\n",
      "\u001b[0;36m  File \u001b[0;32m\"<ipython-input-2-01cec211da23>\"\u001b[0;36m, line \u001b[0;32m3\u001b[0;36m, in \u001b[0;35m<module>\u001b[0;36m\u001b[0m\n\u001b[0;31m    from performRPCA import performRPCA\u001b[0m\n",
      "\u001b[0;36m  File \u001b[0;32m\"/Users/raphaelbechtold/Documents/Johns Hopkins/Senior/Fall/TeamEEG/Raph/preformRPCA/performRPCA.py\"\u001b[0;36m, line \u001b[0;32m31\u001b[0m\n\u001b[0;31m    \"\"\"\u001b[0m\n\u001b[0m       \n^\u001b[0m\n\u001b[0;31mIndentationError\u001b[0m\u001b[0;31m:\u001b[0m expected an indented block\n"
     ]
    }
   ],
   "source": [
    "import numpy as np\n",
    "import pytest\n",
    "import performRPCA\n",
    "\n",
    "\n",
    "def test_basic_input1():\n",
    "    EEG = np.array([[1,2],[3,4]])\n",
    "    expected_A = np.array([[1.00000014,1.47051825],[1.47569674,2.17003868]])\n",
    "    expected_E = np.array([[0.,0.52948166],[1.52430317,1.82996138]])\n",
    "    A,E = performRPCA.performRPCA(EEG);\n",
    "    assert(np.allclose(A,expected_A))\n",
    "    assert(np.allclose(E,expected_E))\n",
    "    print('test_basic_input1 Pass')\n",
    "    \n",
    "def test_basic_input2():\n",
    "    EEG = np.array([[1,2,3],[4,5,6],[7,8,9]])\n",
    "    expected_A = np.array([[1.5999989,1.99999912,2.3999982],\\\n",
    "                           [3.99999961,5.00000076,5.99999904],\\\n",
    "                           [5.13368148,6.41710344,7.70052173]])\n",
    "    expected_E = np.array([[-5.99998725e-01,4.82951146e-07,6.00002018e-01],[0.00000000e+00,-0.00000000e+00,5.78509154e-07],[1.86631877e+00,1.58289609e+00,1.29947849e+00]])\n",
    "    A,E = performRPCA.performRPCA(EEG);\n",
    "    assert(np.allclose(A,expected_A))\n",
    "    assert(np.allclose(E,expected_E))\n",
    "    print('test_basic_input2 Pass')\n",
    "\n",
    "def test_basic_input3():\n",
    "    EEG = np.array([[1,2,3,4,5,6,7],[10,2,-30,6,15,39,92]])\n",
    "    expected_A = np.array([[0.99999674,2.00000276,0.34522968,4.00000449,5.00000174,5.9999975,6.99999895],[10.00000152,1.99999938,-29.50244429,5.99999916,15.00000048,35.50896724,36.46037802]])\n",
    "    expected_E = np.array([[0,0,2.65476565,0,0,0,0],[0,0,-0.49755573,0,0,3.49103264,55.5396215]])\n",
    "    A,E = performRPCA.performRPCA(EEG);\n",
    "    assert(np.allclose(A,expected_A))\n",
    "    assert(np.allclose(E,expected_E))\n",
    "    print('test_basic_input3 Pass')    \n",
    "\n",
    "def test_no_input():\n",
    "    with pytest.raises(TypeError):\n",
    "        A,E = performRPCA.performRPCA()\n",
    "    assert(True)\n",
    "    print('test_no_input Pass')\n",
    "    \n",
    "def test_incorrect_input():\n",
    "    with pytest.raises(AttributeError):\n",
    "        A,E = performRPCA.performRPCA(\"Wrong input Type\")\n",
    "    assert(True)\n",
    "    print('test_incorrect_input Pass')\n",
    "\n",
    "def test_params1():\n",
    "    EEG = np.array([[1,2,3],[4,5,6],[7,8,9]])\n",
    "    lam = .7\n",
    "    tol = 1e-8\n",
    "    maxIter = 20\n",
    "    expected_A = np.array([[1.21416342,1.99964425,2.79453087],[3.99964063,5.00068211,5.94182001],[6.75789278,7.94410702,9.00016552]])\n",
    "    expected_E = np.array([[-0.21397595,0.,0.20564244],[0.,0.,0.05784774],[ 0.24228631,0.05555309,0.]])\n",
    "    A,E = performRPCA.performRPCA(EEG,lam,tol,maxIter)\n",
    "    assert(np.allclose(A,expected_A))\n",
    "    assert(np.allclose(E,expected_E))\n",
    "    print('test_params1 Pass')\n",
    "    \n",
    "def test_params2():\n",
    "    EEG = np.array([[1,2,3],[4,5,6],[7,8,9]])\n",
    "    lam = .2\n",
    "    tol = 1e-3\n",
    "    maxIter = 100\n",
    "    expected_A = np.array([[0,0,0],[0,0,0],[0,0,0]])\n",
    "    expected_E = np.array([[1,2,3],[4,5,6],[7,8,9]])\n",
    "    A,E = performRPCA.performRPCA(EEG,lam,tol,maxIter)\n",
    "    assert(np.allclose(A,expected_A))\n",
    "    assert(np.allclose(E,expected_E))\n",
    "    print('test_params2 Pass')\n",
    "    \n",
    "\n",
    "def test_params3():\n",
    "    EEG = np.array([[1,2,3],[4,5,6],[7,8,9]])\n",
    "    lam = .5\n",
    "    tol = 1e-10\n",
    "    maxIter = 1000\n",
    "    expected_A = np.array([[1.45445617,2,2.14299791],[3.30885118,4.54994966,4.8752663],[3.31508751,4.55852514,4.88445492]])\n",
    "    expected_E = np.array([[-0.45445617,0,0.85700209],[0.69114882,0.45005034,1.1247337],[3.68491249,3.44147486,4.11554508]])\n",
    "    A,E = performRPCA.performRPCA(EEG,lam,tol,maxIter)\n",
    "    assert(np.allclose(A,expected_A))\n",
    "    assert(np.allclose(E,expected_E))\n",
    "    print('test_params3 Pass')"
   ]
  },
  {
   "cell_type": "code",
   "execution_count": null,
   "metadata": {},
   "outputs": [],
   "source": []
  },
  {
   "cell_type": "code",
   "execution_count": null,
   "metadata": {},
   "outputs": [],
   "source": []
  },
  {
   "cell_type": "code",
   "execution_count": 7,
   "metadata": {},
   "outputs": [
    {
     "ename": "NameError",
     "evalue": "name 'test_basic_input1' is not defined",
     "output_type": "error",
     "traceback": [
      "\u001b[0;31m---------------------------------------------------------------------------\u001b[0m",
      "\u001b[0;31mNameError\u001b[0m                                 Traceback (most recent call last)",
      "\u001b[0;32m<ipython-input-7-0e06e456c434>\u001b[0m in \u001b[0;36m<module>\u001b[0;34m\u001b[0m\n\u001b[0;32m----> 1\u001b[0;31m \u001b[0mtest_basic_input1\u001b[0m\u001b[0;34m(\u001b[0m\u001b[0;34m)\u001b[0m\u001b[0;34m\u001b[0m\u001b[0;34m\u001b[0m\u001b[0m\n\u001b[0m\u001b[1;32m      2\u001b[0m \u001b[0mtest_basic_input2\u001b[0m\u001b[0;34m(\u001b[0m\u001b[0;34m)\u001b[0m\u001b[0;34m\u001b[0m\u001b[0;34m\u001b[0m\u001b[0m\n\u001b[1;32m      3\u001b[0m \u001b[0mtest_basic_input3\u001b[0m\u001b[0;34m(\u001b[0m\u001b[0;34m)\u001b[0m\u001b[0;34m\u001b[0m\u001b[0;34m\u001b[0m\u001b[0m\n\u001b[1;32m      4\u001b[0m \u001b[0mtest_no_input\u001b[0m\u001b[0;34m(\u001b[0m\u001b[0;34m)\u001b[0m\u001b[0;34m\u001b[0m\u001b[0;34m\u001b[0m\u001b[0m\n\u001b[1;32m      5\u001b[0m \u001b[0mtest_incorrect_input\u001b[0m\u001b[0;34m(\u001b[0m\u001b[0;34m)\u001b[0m\u001b[0;34m\u001b[0m\u001b[0;34m\u001b[0m\u001b[0m\n",
      "\u001b[0;31mNameError\u001b[0m: name 'test_basic_input1' is not defined"
     ]
    }
   ],
   "source": [
    "test_basic_input1()\n",
    "test_basic_input2()\n",
    "test_basic_input3()\n",
    "test_no_input()\n",
    "test_incorrect_input()\n",
    "test_params1()\n",
    "test_params2()\n",
    "test_params3()\n",
    "print('All Tests Passed!')"
   ]
  }
 ],
 "metadata": {
  "kernelspec": {
   "display_name": "Python 3",
   "language": "python",
   "name": "python3"
  },
  "language_info": {
   "codemirror_mode": {
    "name": "ipython",
    "version": 3
   },
   "file_extension": ".py",
   "mimetype": "text/x-python",
   "name": "python",
   "nbconvert_exporter": "python",
   "pygments_lexer": "ipython3",
   "version": "3.6.9"
  }
 },
 "nbformat": 4,
 "nbformat_minor": 2
}
