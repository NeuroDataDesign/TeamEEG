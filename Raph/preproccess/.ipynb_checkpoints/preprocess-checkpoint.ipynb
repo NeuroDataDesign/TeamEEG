{
 "cells": [
  {
   "cell_type": "code",
   "execution_count": 8,
   "metadata": {},
   "outputs": [],
   "source": [
    "import mne\n",
    "\"\"\" preprocess\n",
    "    Performs all the preprocessing algorithims on the EEG data\n",
    "    \n",
    "    Parameters\n",
    "    ----------\n",
    "    eeg : mne raw object\n",
    "        First Parameter, EEG Data (must include)\n",
    "    params: dict\n",
    "        dictionary of all the parameters \n",
    "        params = {'line_noise' : 50 \\\n",
    "                'filter_type': None, \\\n",
    "                'filt_freq': None, \\\n",
    "                'filter_length': 'auto', \\\n",
    "                'eog_index': -1, \\\n",
    "                'lam': -1,\n",
    "                'tol': 1e-7,\n",
    "                'max_iter': 1000\n",
    "                }\n",
    "        values included are default \n",
    "    \n",
    "    Returns\n",
    "    -------\n",
    "    Data : double numpy array\n",
    "        Corrected Data\n",
    "    fig : matlib figures\n",
    "        Figures of the data at different processing stages        \n",
    "    \n",
    "\"\"\"\n",
    "    #def performFilter(EEG, sfreq, filter_type=None, filt_freq=None, filter_length='auto'):\n",
    "    #def performEOGRegression(eeg, eog, *args):\n",
    "    #def performRPCA(EEG, lam=-1, tol=1e-7, maxIter=1000):\n",
    "\n",
    "def preprocess(eeg, params):\n",
    "    print(1)\n",
    "    #performPrep\n",
    "    badChannels = prep_pipeline(eeg,params['line_noise'])\n",
    "    eeg.info['bads'] = badChannels\n",
    "    print(2)\n",
    "    #perfom filter\n",
    "    eeg_filt = eeg.copy()\n",
    "    eeg_filt._data = performFilter(data, eeg.sfreq,\\\n",
    "                             params['filter_type'], \\\n",
    "                             params['filt_freq'],\\\n",
    "                             params['filter_length'])\n",
    "    print(3)\n",
    "    #eog_regression\n",
    "    eeg_filt_eog = eeg_filt.copy()\n",
    "    eeg_filt_eog = performEOGRegression(raw_filt)\n",
    "    print(4)\n",
    "    #perform RPCA\n",
    "    eeg_filt_eog_rpca = eeg_filt_eog.copy()\n",
    "    eeg_filt_eog_rpca._data, noise = performRPCA(raw_filt_eog.get_data(), \\\n",
    "                                    params['lam'], \\\n",
    "                                    params['tol'], \\\n",
    "                                    params['maxIter'])\n",
    "    print(5)\n",
    "    #Graph\n",
    "    \n",
    "\n",
    "    \n",
    "    \n",
    "    "
   ]
  },
  {
   "cell_type": "code",
   "execution_count": 13,
   "metadata": {},
   "outputs": [
    {
     "ename": "SyntaxError",
     "evalue": "invalid syntax (<ipython-input-13-d66d197b488d>, line 3)",
     "output_type": "error",
     "traceback": [
      "\u001b[0;36m  File \u001b[0;32m\"<ipython-input-13-d66d197b488d>\"\u001b[0;36m, line \u001b[0;32m3\u001b[0m\n\u001b[0;31m    'filter_type' : 2, \\\u001b[0m\n\u001b[0m                ^\u001b[0m\n\u001b[0;31mSyntaxError\u001b[0m\u001b[0;31m:\u001b[0m invalid syntax\n"
     ]
    }
   ],
   "source": [
    "raw = mne.io.read_raw_edf('/Users/raphaelbechtold/Documents/MATLAB/Automagic/automagic/data/Subj1/S001R04.edf')\n",
    "params = {'line_noise' : 50 \\\n",
    "          'filter_type' : None, \\\n",
    "          'filt_freq' : None, \\\n",
    "          'filter_length' : 'auto', \\\n",
    "          'eog_index' : -1, \\\n",
    "          'lam' : -1,\n",
    "          'tol' : 1e-7,\n",
    "          'max_iter': 1000\n",
    "         }\n",
    "preprocess(raw, params)"
   ]
  },
  {
   "cell_type": "code",
   "execution_count": null,
   "metadata": {},
   "outputs": [],
   "source": []
  },
  {
   "cell_type": "code",
   "execution_count": null,
   "metadata": {},
   "outputs": [],
   "source": []
  }
 ],
 "metadata": {
  "kernelspec": {
   "display_name": "Python 3",
   "language": "python",
   "name": "python3"
  }
 },
 "nbformat": 4,
 "nbformat_minor": 2
}
