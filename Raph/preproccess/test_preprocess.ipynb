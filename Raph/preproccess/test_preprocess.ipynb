{
 "cells": [
  {
   "cell_type": "code",
   "execution_count": 1,
   "metadata": {},
   "outputs": [
    {
     "ename": "SyntaxError",
     "evalue": "invalid syntax (preprocess.py, line 37)",
     "output_type": "error",
     "traceback": [
      "Traceback \u001b[0;36m(most recent call last)\u001b[0m:\n",
      "  File \u001b[1;32m\"/Users/raphaelbechtold/anaconda3/lib/python3.6/site-packages/IPython/core/interactiveshell.py\"\u001b[0m, line \u001b[1;32m3326\u001b[0m, in \u001b[1;35mrun_code\u001b[0m\n    exec(code_obj, self.user_global_ns, self.user_ns)\n",
      "\u001b[0;36m  File \u001b[0;32m\"<ipython-input-1-1bab2385cb83>\"\u001b[0;36m, line \u001b[0;32m5\u001b[0;36m, in \u001b[0;35m<module>\u001b[0;36m\u001b[0m\n\u001b[0;31m    from preprocess import Preprocess\u001b[0m\n",
      "\u001b[0;36m  File \u001b[0;32m\"/Users/raphaelbechtold/Documents/Johns Hopkins/Senior/Fall/TeamEEG/Raph/preproccess/preprocess.py\"\u001b[0;36m, line \u001b[0;32m37\u001b[0m\n\u001b[0;31m    self.automagic.update({'auto_bad_chans'} : self.bad_chs)\u001b[0m\n\u001b[0m                                             ^\u001b[0m\n\u001b[0;31mSyntaxError\u001b[0m\u001b[0;31m:\u001b[0m invalid syntax\n"
     ]
    }
   ],
   "source": [
    "import numpy as np\n",
    "import mne\n",
    "import pytest\n",
    "import matplotlib.pyplot as plt\n",
    "from preprocess import Preprocess\n",
    "\n",
    "\n",
    "#Test each output type on a sample data set\n",
    "def test_sample_input_correctType():\n",
    "    raw = mne.io.read_raw_edf('/Users/raphaelbechtold/Documents/MATLAB/Automagic/automagic/data/Subj1/S001R01.edf')\n",
    "    \n",
    "    params = {'line_noise' : 50, \\\n",
    "              'filter_type' : 'high', \\\n",
    "              'filt_freq' : None, \\\n",
    "              'filter_length' : 'auto', \\\n",
    "              'eog_index' : -1, \\\n",
    "              'lam' : -1,\n",
    "              'tol' : 1e-7,\n",
    "              'max_iter': 1000\n",
    "             }\n",
    "\n",
    "    preprocess = Preprocess(raw, params)\n",
    "    eeg,fig1,fig2 = preprocess.fit()\n",
    "    assert(type(eeg) == mne.io.edf.edf.RawEDF)\n",
    "    assert(type(fig1) == type(plt.figure()))\n",
    "    assert(type(fig2) == type(plt.figure()))\n",
    "    \n",
    "    \n",
    "#Test each output type on a sample data set 2    \n",
    "def test_sample_input2_correctType():\n",
    "    raw = mne.io.read_raw_edf('/Users/raphaelbechtold/Documents/MATLAB/Automagic/automagic/data/Subj1/S001R04.edf')\n",
    "\n",
    "    params = {'line_noise' : 50, \\\n",
    "              'filter_type' : 'high', \\\n",
    "              'filt_freq' : None, \\\n",
    "              'filter_length' : 'auto', \\\n",
    "              'eog_index' : -1, \\\n",
    "              'lam' : -1,\n",
    "              'tol' : 1e-7,\n",
    "              'max_iter': 1000\n",
    "             }\n",
    "\n",
    "    \n",
    "    preprocess = Preprocess(raw, params)\n",
    "    eeg,fig1,fig2 = preprocess.fit()\n",
    "    assert(type(eeg) == mne.io.edf.edf.RawEDF)\n",
    "    assert(type(fig1) == type(plt.figure()))\n",
    "    assert(type(fig2) == type(plt.figure()))"
   ]
  },
  {
   "cell_type": "code",
   "execution_count": null,
   "metadata": {
    "scrolled": false
   },
   "outputs": [],
   "source": [
    "print('Starting Tests')\n",
    "test_sample_input_correctType()\n",
    "plt.figure()\n",
    "test_sample_input2_correctType()\n",
    "print('All Tests Passed!')"
   ]
  },
  {
   "cell_type": "code",
   "execution_count": null,
   "metadata": {},
   "outputs": [],
   "source": []
  },
  {
   "cell_type": "code",
   "execution_count": null,
   "metadata": {},
   "outputs": [],
   "source": []
  }
 ],
 "metadata": {
  "kernelspec": {
   "display_name": "Python 3",
   "language": "python",
   "name": "python3"
  },
  "language_info": {
   "codemirror_mode": {
    "name": "ipython",
    "version": 3
   },
   "file_extension": ".py",
   "mimetype": "text/x-python",
   "name": "python",
   "nbconvert_exporter": "python",
   "pygments_lexer": "ipython3",
   "version": "3.6.9"
  }
 },
 "nbformat": 4,
 "nbformat_minor": 2
}
