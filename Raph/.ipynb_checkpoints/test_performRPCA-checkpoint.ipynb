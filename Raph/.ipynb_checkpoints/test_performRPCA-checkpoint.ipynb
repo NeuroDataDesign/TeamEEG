{
 "cells": [
  {
   "cell_type": "code",
<<<<<<< HEAD
   "execution_count": 3,
=======
   "execution_count": 4,
>>>>>>> master
   "metadata": {},
   "outputs": [],
   "source": [
    "import numpy as np\n",
    "import pytest\n",
    "import performRPCA\n",
    "\n",
    "\n",
    "def test_basic_input():\n",
    "    EEG = np.array([[1,2],[3,4]])\n",
<<<<<<< HEAD
    "    expected_A = np.array([[1.00000014,1.47051825],[1.47569674,2.17003868]])\n",
    "    expected_E = np.array([[0.,0.52948166],[1.52430317,1.82996138]])\n",
=======
    "    expected_A = np.array([[1.00000027, 1.62530315],[2.58654179, 3.99999973]])\n",
    "    expected_E = np.array([[-0.,0.37469685],[ 0.41345821, 0.]])\n",
>>>>>>> master
    "    A,E = performRPCA.performRPCA(EEG);\n",
    "    assert(np.allclose(A,expected_A))\n",
    "    assert(np.allclose(E,expected_E))\n",
    "    print('done')\n",
    "\n",
    "\n",
    "def test_no_input():\n",
    "    with pytest.raises(TypeError):\n",
    "        A,E = performRPCA.performRPCA();\n",
    "    print('done')\n",
    "\n",
    "def test_params():\n",
    "    EEG = np.array([[1,2,3],[4,5,6],[7,8,9]])\n",
    "    lam = .7\n",
    "    tol = 1e-8\n",
    "    maxIter = 20\n",
<<<<<<< HEAD
    "    expected_A = np.array([[1.21416342,1.99964425,2.79453087],[3.99964063,5.00068211,5.94182001],[6.75789278,7.94410702,9.00016552]])\n",
    "    expected_E = np.array([[-0.21397595,0.,0.20564244],[0.,0.,0.05784774],[ 0.24228631,0.05555309,0.]])\n",
=======
    "    expected_A = np.array([[1., 2., 3.],[4., 5., 6.],[7.,8.,9.]])\n",
    "    expected_E = np.array([[-0.,0,0],[0,0,0],[0,0,0]])\n",
>>>>>>> master
    "    A,E = performRPCA.performRPCA(EEG,lam,tol,maxIter);\n",
    "    assert(np.allclose(A,expected_A))\n",
    "    assert(np.allclose(E,expected_E))\n",
    "    print('done')"
   ]
  },
  {
   "cell_type": "code",
<<<<<<< HEAD
   "execution_count": 4,
   "metadata": {},
   "outputs": [
    {
     "name": "stdout",
     "output_type": "stream",
     "text": [
      "done\n",
      "done\n"
     ]
    },
    {
     "ename": "AssertionError",
     "evalue": "",
     "output_type": "error",
     "traceback": [
      "\u001b[0;31m---------------------------------------------------------------------------\u001b[0m",
      "\u001b[0;31mAssertionError\u001b[0m                            Traceback (most recent call last)",
      "\u001b[0;32m<ipython-input-4-656f8d036c3e>\u001b[0m in \u001b[0;36m<module>\u001b[0;34m\u001b[0m\n\u001b[1;32m      1\u001b[0m \u001b[0mtest_basic_input\u001b[0m\u001b[0;34m(\u001b[0m\u001b[0;34m)\u001b[0m\u001b[0;34m\u001b[0m\u001b[0;34m\u001b[0m\u001b[0m\n\u001b[1;32m      2\u001b[0m \u001b[0mtest_no_input\u001b[0m\u001b[0;34m(\u001b[0m\u001b[0;34m)\u001b[0m\u001b[0;34m\u001b[0m\u001b[0;34m\u001b[0m\u001b[0m\n\u001b[0;32m----> 3\u001b[0;31m \u001b[0mtest_params\u001b[0m\u001b[0;34m(\u001b[0m\u001b[0;34m)\u001b[0m\u001b[0;34m\u001b[0m\u001b[0;34m\u001b[0m\u001b[0m\n\u001b[0m",
      "\u001b[0;32m<ipython-input-3-7d32e9e56f82>\u001b[0m in \u001b[0;36mtest_params\u001b[0;34m()\u001b[0m\n\u001b[1;32m     28\u001b[0m     \u001b[0mA\u001b[0m\u001b[0;34m,\u001b[0m\u001b[0mE\u001b[0m \u001b[0;34m=\u001b[0m \u001b[0mperformRPCA\u001b[0m\u001b[0;34m.\u001b[0m\u001b[0mperformRPCA\u001b[0m\u001b[0;34m(\u001b[0m\u001b[0mEEG\u001b[0m\u001b[0;34m,\u001b[0m\u001b[0mlam\u001b[0m\u001b[0;34m,\u001b[0m\u001b[0mtol\u001b[0m\u001b[0;34m,\u001b[0m\u001b[0mmaxIter\u001b[0m\u001b[0;34m)\u001b[0m\u001b[0;34m;\u001b[0m\u001b[0;34m\u001b[0m\u001b[0;34m\u001b[0m\u001b[0m\n\u001b[1;32m     29\u001b[0m     \u001b[0;32massert\u001b[0m\u001b[0;34m(\u001b[0m\u001b[0mnp\u001b[0m\u001b[0;34m.\u001b[0m\u001b[0mallclose\u001b[0m\u001b[0;34m(\u001b[0m\u001b[0mA\u001b[0m\u001b[0;34m,\u001b[0m\u001b[0mexpected_A\u001b[0m\u001b[0;34m)\u001b[0m\u001b[0;34m)\u001b[0m\u001b[0;34m\u001b[0m\u001b[0;34m\u001b[0m\u001b[0m\n\u001b[0;32m---> 30\u001b[0;31m     \u001b[0;32massert\u001b[0m\u001b[0;34m(\u001b[0m\u001b[0mnp\u001b[0m\u001b[0;34m.\u001b[0m\u001b[0mallclose\u001b[0m\u001b[0;34m(\u001b[0m\u001b[0mE\u001b[0m\u001b[0;34m,\u001b[0m\u001b[0mexpected_E\u001b[0m\u001b[0;34m)\u001b[0m\u001b[0;34m)\u001b[0m\u001b[0;34m\u001b[0m\u001b[0;34m\u001b[0m\u001b[0m\n\u001b[0m\u001b[1;32m     31\u001b[0m     \u001b[0mprint\u001b[0m\u001b[0;34m(\u001b[0m\u001b[0;34m'done'\u001b[0m\u001b[0;34m)\u001b[0m\u001b[0;34m\u001b[0m\u001b[0;34m\u001b[0m\u001b[0m\n",
      "\u001b[0;31mAssertionError\u001b[0m: "
     ]
    }
   ],
=======
   "execution_count": null,
   "metadata": {},
   "outputs": [],
>>>>>>> master
   "source": [
    "test_basic_input()\n",
    "test_no_input()\n",
    "test_params()"
   ]
<<<<<<< HEAD
  },
  {
   "cell_type": "code",
   "execution_count": null,
   "metadata": {},
   "outputs": [],
   "source": []
=======
>>>>>>> master
  }
 ],
 "metadata": {
  "kernelspec": {
   "display_name": "Python 3",
   "language": "python",
   "name": "python3"
<<<<<<< HEAD
  },
  "language_info": {
   "codemirror_mode": {
    "name": "ipython",
    "version": 3
   },
   "file_extension": ".py",
   "mimetype": "text/x-python",
   "name": "python",
   "nbconvert_exporter": "python",
   "pygments_lexer": "ipython3",
   "version": "3.6.9"
=======
>>>>>>> master
  }
 },
 "nbformat": 4,
 "nbformat_minor": 2
}
