{
 "cells": [
  {
   "cell_type": "code",
   "execution_count": 4,
   "metadata": {},
   "outputs": [],
   "source": [
    "import numpy as np\n",
    "import pytest\n",
    "import performRPCA\n",
    "\n",
    "\n",
    "def test_basic_input():\n",
    "    EEG = np.array([[1,2],[3,4]])\n",
    "    expected_A = np.array([[1.00000027, 1.62530315],[2.58654179, 3.99999973]])\n",
    "    expected_E = np.array([[-0.,0.37469685],[ 0.41345821, 0.]])\n",
    "    A,E = performRPCA.performRPCA(EEG);\n",
    "    assert(np.allclose(A,expected_A))\n",
    "    assert(np.allclose(E,expected_E))\n",
    "    print('done')\n",
    "\n",
    "\n",
    "def test_no_input():\n",
    "    with pytest.raises(TypeError):\n",
    "        A,E = performRPCA.performRPCA();\n",
    "    print('done')\n",
    "\n",
    "def test_params():\n",
    "    EEG = np.array([[1,2,3],[4,5,6],[7,8,9]])\n",
    "    lam = .7\n",
    "    tol = 1e-8\n",
    "    maxIter = 20\n",
    "    expected_A = np.array([[1., 2., 3.],[4., 5., 6.],[7.,8.,9.]])\n",
    "    expected_E = np.array([[-0.,0,0],[0,0,0],[0,0,0]])\n",
    "    A,E = performRPCA.performRPCA(EEG,lam,tol,maxIter);\n",
    "    assert(np.allclose(A,expected_A))\n",
    "    assert(np.allclose(E,expected_E))\n",
    "    print('done')"
   ]
  },
  {
   "cell_type": "code",
   "execution_count": null,
   "metadata": {},
   "outputs": [],
   "source": [
    "test_basic_input()\n",
    "test_no_input()\n",
    "test_params()"
   ]
  }
 ],
 "metadata": {
  "kernelspec": {
   "display_name": "Python 3",
   "language": "python",
   "name": "python3"
  }
 },
 "nbformat": 4,
 "nbformat_minor": 2
}
