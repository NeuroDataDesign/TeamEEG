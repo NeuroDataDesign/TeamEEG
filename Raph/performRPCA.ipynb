{
 "cells": [
  {
   "cell_type": "code",
   "execution_count": 2,
   "metadata": {},
   "outputs": [],
   "source": [
    "import numpy as np\n",
    "import preProcessRPCA as preprocess\n",
    "import matplotlib.pyplot as plt\n",
    "\n",
    "\"\"\" Perform Robust Principle Component Analysis:\n",
    "    -Input = [EEG,params]\n",
    "           EEG = EEG Data (must include)\n",
    "           lam = Lamda paramter for RPCA (default = 1/(sqrt(# of Colunms))\n",
    "           tol = Tolerance (defalut = 1e-7) RPCA param\n",
    "           maxIter = Maximum Iterations (deafult = 1000)\n",
    "    \n",
    "    -Output = [Data, Noise]\n",
    "            Data = Corrected Data\n",
    "            Noise = Noise removed from the data\n",
    "            Original EEG = Data + Noise        \n",
    "    \n",
    "    -Summary = Performs a Robust Principal Component Analysis on the EEG data with\n",
    "            the specified parameters: Lamda, Tolerance, and Maximum number of Iterations.\n",
    "            The function outputs the EEG data with the noise removed as well as the nosie\n",
    "            that was removed.\n",
    "\"\"\"\n",
    "\n",
    "def performRPCA(EEG, lam=-1, tol=1e-7, maxIter=1000):\n",
    "    #Find lamda if not provided using the Automagic algorithim\n",
    "    col = EEG.shape;\n",
    "    if (lam == -1): #if no input lamda, calculate its value\n",
    "        lam = 1 / np.sqrt(col[0]);\n",
    "        \n",
    "    #Perform Robust Principal Component Analysis\n",
    "    data, error = preprocess.rpca(EEG,lam,tol,maxIter);\n",
    "    return data, error;"
   ]
  },
  {
   "cell_type": "code",
   "execution_count": 2,
   "metadata": {},
   "outputs": [],
   "source": [
    "dat = np.array([[-21.1425781250000, -23.6816406250000,-21.4843750000000],\n",
    "[-21.9238281250000, -23.9257812500000, -24.3164062500000],\n",
    "[-15.6250000000000,-19.7265625000000,-18.8476562500000],\n",
    "[-16.6992187500000,-13.7207031250000,-20.3613281250000],\n",
    "[-19.3359375000000,-17.6269531250000,-20.4101562500000],\n",
    "[0.0976562500000000,6.73828125000000,2.88085937500000],\n",
    "[-12.8906250000000,-6.68945312500000,-10.8886718750000],\n",
    "[-18.9453125000000,-12.4511718750000,-15.5273437500000],\n",
    "[-21.8261718750000,-9.13085937500000,-16.1621093750000],\n",
    "[-19.6777343750000,-8.83789062500000,-11.5722656250000],\n",
    "[-31.7382812500000,-19.5312500000000,-24.9023437500000],\n",
    "[-27.0507812500000,-16.4062500000000,-18.9453125000000],\n",
    "[-26.2207031250000,-11.1816406250000,-16.8945312500000],\n",
    "[-16.0644531250000,-4.29687500000000,-6.68945312500000],\n",
    "[-16.2597656250000,-5.71289062500000,-5.32226562500000],\n",
    "[-9.81445312500000,4.88281250000000,1.51367187500000],\n",
    "[-15.3320312500000,1.17187500000000,-4.73632812500000],\n",
    "[-4.93164062500000,9.57031250000000,5.17578125000000],\n",
    "[-1.46484375000000,11.6210937500000,7.08007812500000],\n",
    "[-13.0859375000000,-1.07421875000000,-8.44726562500000]])"
   ]
  },
  {
   "cell_type": "code",
   "execution_count": 7,
   "metadata": {
    "scrolled": false
   },
   "outputs": [
    {
     "name": "stdout",
     "output_type": "stream",
     "text": [
      "3\n",
      "[[1.21416342 1.99964425 2.79453087]\n",
      " [3.99964063 5.00068211 5.94182001]\n",
      " [6.75789278 7.94410702 9.00016552]]\n",
      "[[-0.21397595  0.          0.20564244]\n",
      " [ 0.          0.          0.05784774]\n",
      " [ 0.24228631  0.05555309  0.        ]]\n"
     ]
    },
    {
     "ename": "NameError",
     "evalue": "name 'dat' is not defined",
     "output_type": "error",
     "traceback": [
      "\u001b[0;31m---------------------------------------------------------------------------\u001b[0m",
      "\u001b[0;31mNameError\u001b[0m                                 Traceback (most recent call last)",
      "\u001b[0;32m<ipython-input-7-796a04094874>\u001b[0m in \u001b[0;36m<module>\u001b[0;34m\u001b[0m\n\u001b[1;32m      6\u001b[0m \u001b[0mprint\u001b[0m\u001b[0;34m(\u001b[0m\u001b[0mA\u001b[0m\u001b[0;34m)\u001b[0m\u001b[0;34m\u001b[0m\u001b[0;34m\u001b[0m\u001b[0m\n\u001b[1;32m      7\u001b[0m \u001b[0mprint\u001b[0m\u001b[0;34m(\u001b[0m\u001b[0mE\u001b[0m\u001b[0;34m)\u001b[0m\u001b[0;34m\u001b[0m\u001b[0;34m\u001b[0m\u001b[0m\n\u001b[0;32m----> 8\u001b[0;31m \u001b[0mplt\u001b[0m\u001b[0;34m.\u001b[0m\u001b[0mplot\u001b[0m\u001b[0;34m(\u001b[0m\u001b[0mdat\u001b[0m\u001b[0;34m[\u001b[0m\u001b[0;34m:\u001b[0m\u001b[0;34m:\u001b[0m\u001b[0;34m,\u001b[0m\u001b[0;36m1\u001b[0m\u001b[0;34m]\u001b[0m\u001b[0;34m,\u001b[0m\u001b[0;34m'b'\u001b[0m\u001b[0;34m)\u001b[0m\u001b[0;34m\u001b[0m\u001b[0;34m\u001b[0m\u001b[0m\n\u001b[0m\u001b[1;32m      9\u001b[0m \u001b[0mplt\u001b[0m\u001b[0;34m.\u001b[0m\u001b[0mhold\u001b[0m\u001b[0;34m(\u001b[0m\u001b[0;32mTrue\u001b[0m\u001b[0;34m)\u001b[0m\u001b[0;34m\u001b[0m\u001b[0;34m\u001b[0m\u001b[0m\n\u001b[1;32m     10\u001b[0m \u001b[0mplt\u001b[0m\u001b[0;34m.\u001b[0m\u001b[0mplot\u001b[0m\u001b[0;34m(\u001b[0m\u001b[0mA\u001b[0m\u001b[0;34m[\u001b[0m\u001b[0;34m:\u001b[0m\u001b[0;34m:\u001b[0m\u001b[0;34m,\u001b[0m\u001b[0;36m1\u001b[0m\u001b[0;34m]\u001b[0m\u001b[0;34m,\u001b[0m\u001b[0;34m'r'\u001b[0m\u001b[0;34m)\u001b[0m\u001b[0;34m;\u001b[0m\u001b[0;34m\u001b[0m\u001b[0;34m\u001b[0m\u001b[0m\n",
      "\u001b[0;31mNameError\u001b[0m: name 'dat' is not defined"
     ]
    }
   ],
   "source": [
    "EEG = np.array([[1,2,3],[4,5,6],[7,8,9]])\n",
    "lam = .7\n",
    "tol = 1e-8\n",
    "maxIter = 20\n",
    "A,E = performRPCA(EEG,lam,tol,maxIter)\n",
    "print(A)\n",
    "print(E)\n",
    "plt.plot(dat[::,1],'b')\n",
    "plt.hold(True)\n",
    "plt.plot(A[::,1],'r');\n",
    "plt.plot(E[::,1],'y');\n",
    "plt.xlabel('Time');\n",
    "plt.ylabel('Voltage');\n",
    "plt.title('Sample pyAutomagic RPCA Ouput');\n",
    "plt.legend(['Input EEG','Output Clena EEG', 'Noise Removed']);"
   ]
  },
  {
   "cell_type": "code",
   "execution_count": null,
   "metadata": {},
   "outputs": [],
   "source": []
  }
 ],
 "metadata": {
  "kernelspec": {
   "display_name": "Python 3",
   "language": "python",
   "name": "python3"
  },
  "language_info": {
   "codemirror_mode": {
    "name": "ipython",
    "version": 3
   },
   "file_extension": ".py",
   "mimetype": "text/x-python",
   "name": "python",
   "nbconvert_exporter": "python",
   "pygments_lexer": "ipython3",
   "version": "3.6.9"
  }
 },
 "nbformat": 4,
 "nbformat_minor": 2
}
