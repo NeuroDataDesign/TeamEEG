{
 "cells": [
  {
   "cell_type": "code",
   "execution_count": 8,
   "metadata": {},
   "outputs": [],
   "source": [
    "import numpy as np\n",
    "import pytest\n",
    "import performRPCA\n",
    "\n",
    "\n",
    "def test_basic_input():\n",
    "    EEG = np.array([[1,2],[3,4]])\n",
    "    expected_A = np.array([[1.00000027, 1.62530315],[2.58654179, 3.99999973]])\n",
    "    expected_E = np.array([[-0.,0.37469685],[ 0.41345821, 0.]])\n",
    "    A,E = performRPCA.performRPCA(EEG);\n",
    "    assert(np.allclose(A,expected_A))\n",
    "    assert(np.allclose(E,expected_E))\n",
    "\n",
    "\n",
    "def test_no_input():\n",
    "    with pytest.raises(TypeError):\n",
    "        A,E = performRPCA.performRPCA();\n",
    "\n",
    "\n",
    "def test_params():\n",
    "    EEG = np.array([[1,2,3],[4,5,6],[7,8,9]])\n",
    "    lam = .7\n",
    "    tol = 1e-8\n",
    "    maxIter = 20\n",
    "    expected_A = np.array([[1., 2., 3.],[4., 5., 6.],[7.,8.,9.]])\n",
    "    expected_E = np.array([[-0.,0,0],[0,0,0],[0,0,0]])\n",
    "    A,E = performRPCA.performRPCA(EEG,lam,tol,maxIter);\n",
    "    assert(np.allclose(A,expected_A))\n",
    "    assert(np.allclose(E,expected_E))\n"
   ]
  },
  {
   "cell_type": "code",
   "execution_count": null,
   "metadata": {},
   "outputs": [],
   "source": []
  }
 ],
 "metadata": {
  "kernelspec": {
   "display_name": "Python 3",
   "language": "python",
   "name": "python3"
  },
  "language_info": {
   "codemirror_mode": {
    "name": "ipython",
    "version": 3
   },
   "file_extension": ".py",
   "mimetype": "text/x-python",
   "name": "python",
   "nbconvert_exporter": "python",
   "pygments_lexer": "ipython3",
   "version": "3.6.9"
  }
 },
 "nbformat": 4,
 "nbformat_minor": 2
}
