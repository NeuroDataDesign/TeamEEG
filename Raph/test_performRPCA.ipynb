{
 "cells": [
  {
   "cell_type": "code",
<<<<<<< HEAD
   "execution_count": 7,
=======
   "execution_count": 4,
>>>>>>> master
   "metadata": {},
   "outputs": [],
   "source": [
    "import numpy as np\n",
    "import pytest\n",
    "import performRPCA\n",
    "\n",
    "\n",
    "def test_basic_input():\n",
    "    EEG = np.array([[1,2],[3,4]])\n",
<<<<<<< HEAD
    "    expected_A = np.array([[1.00000014,1.47051825],[1.47569674,2.17003868]])\n",
    "    expected_E = np.array([[0.,0.52948166],[1.52430317,1.82996138]])\n",
=======
    "    expected_A = np.array([[1.00000027, 1.62530315],[2.58654179, 3.99999973]])\n",
    "    expected_E = np.array([[-0.,0.37469685],[ 0.41345821, 0.]])\n",
>>>>>>> master
    "    A,E = performRPCA.performRPCA(EEG);\n",
    "    assert(np.allclose(A,expected_A))\n",
    "    assert(np.allclose(E,expected_E))\n",
    "    print('done')\n",
    "\n",
    "\n",
    "def test_no_input():\n",
    "    with pytest.raises(TypeError):\n",
    "        A,E = performRPCA.performRPCA();\n",
    "    print('done')\n",
    "\n",
    "def test_params():\n",
    "    EEG = np.array([[1,2,3],[4,5,6],[7,8,9]])\n",
    "    lam = .7\n",
    "    tol = 1e-8\n",
    "    maxIter = 20\n",
<<<<<<< HEAD
    "    expected_A = np.array([[1.21416342,1.99964425,2.79453087],[3.99964063,5.00068211,5.94182001],[6.75789278,7.94410702,9.00016552]])\n",
    "    expected_E = np.array([[-0.21397595,0.,0.20564244],[0.,0.,0.05784774],[ 0.24228631,0.05555309,0.]])\n",
=======
    "    expected_A = np.array([[1., 2., 3.],[4., 5., 6.],[7.,8.,9.]])\n",
    "    expected_E = np.array([[-0.,0,0],[0,0,0],[0,0,0]])\n",
>>>>>>> master
    "    A,E = performRPCA.performRPCA(EEG,lam,tol,maxIter);\n",
    "    assert(np.allclose(A,expected_A))\n",
    "    assert(np.allclose(E,expected_E))\n",
    "    print('done')"
   ]
  },
  {
   "cell_type": "code",
<<<<<<< HEAD
   "execution_count": 8,
=======
   "execution_count": 6,
>>>>>>> master
   "metadata": {},
   "outputs": [
    {
     "name": "stdout",
     "output_type": "stream",
     "text": [
      "done\n",
      "done\n",
      "done\n"
     ]
    }
   ],
   "source": [
    "test_basic_input()\n",
    "test_no_input()\n",
    "test_params()"
   ]
  },
  {
   "cell_type": "code",
   "execution_count": null,
   "metadata": {},
   "outputs": [],
   "source": []
  }
 ],
 "metadata": {
  "kernelspec": {
   "display_name": "Python 3",
   "language": "python",
   "name": "python3"
<<<<<<< HEAD
  },
  "language_info": {
   "codemirror_mode": {
    "name": "ipython",
    "version": 3
   },
   "file_extension": ".py",
   "mimetype": "text/x-python",
   "name": "python",
   "nbconvert_exporter": "python",
   "pygments_lexer": "ipython3",
   "version": "3.6.9"
=======
>>>>>>> master
  }
 },
 "nbformat": 4,
 "nbformat_minor": 2
}
